{
 "cells": [
  {
   "cell_type": "markdown",
   "metadata": {},
   "source": [
    "# Iris Dataset - Exploratory Data Analysis\n",
    "\n",
    "This notebook performs a comprehensive exploratory data analysis on the famous Iris dataset.\n",
    "The Iris dataset contains measurements of 150 iris flowers from three different species:\n",
    "- Iris setosa\n",
    "- Iris versicolor  \n",
    "- Iris virginica\n",
    "\n",
    "Each flower has four features measured:\n",
    "- Sepal length (cm)\n",
    "- Sepal width (cm)\n",
    "- Petal length (cm)\n",
    "- Petal width (cm)"
   ]
  },
  {
   "cell_type": "markdown",
   "metadata": {},
   "source": [
    "## 1. Import Required Libraries"
   ]
  },
  {
   "cell_type": "code",
   "execution_count": null,
   "metadata": {},
   "outputs": [],
   "source": [
    "# Import necessary libraries for data analysis and visualization\n",
    "import pandas as pd\n",
    "import numpy as np\n",
    "import matplotlib.pyplot as plt\n",
    "import seaborn as sns\n",
    "from sklearn.datasets import load_iris\n",
    "import warnings\n",
    "warnings.filterwarnings('ignore')\n",
    "\n",
    "# Set the aesthetic style of the plots\n",
    "sns.set_theme(style=\"whitegrid\")\n",
    "plt.style.use('default')\n",
    "\n",
    "# Set figure size for better readability\n",
    "plt.rcParams['figure.figsize'] = (10, 6)\n",
    "plt.rcParams['font.size'] = 12\n",
    "\n",
    "print(\"Libraries imported successfully!\")"
   ]
  },
  {
   "cell_type": "markdown",
   "metadata": {},
   "source": [
    "## 2. Data Loading & Basic Exploration"
   ]
  },
  {
   "cell_type": "code",
   "execution_count": null,
   "metadata": {},
   "outputs": [],
   "source": [
    "# Load the Iris dataset using sklearn\n",
    "iris_sklearn = load_iris()\n",
    "\n",
    "# Create a pandas DataFrame\n",
    "df = pd.DataFrame(iris_sklearn.data, columns=iris_sklearn.feature_names)\n",
    "df['species'] = iris_sklearn.target\n",
    "\n",
    "# Map target numbers to species names\n",
    "species_names = {0: 'setosa', 1: 'versicolor', 2: 'virginica'}\n",
    "df['species'] = df['species'].map(species_names)\n",
    "\n",
    "# Clean column names (remove spaces and make them more readable)\n",
    "df.columns = ['sepal_length', 'sepal_width', 'petal_length', 'petal_width', 'species']\n",
    "\n",
    "print(\"Dataset loaded successfully!\")\n",
    "print(f\"Dataset shape: {df.shape}\")"
   ]
  },
  {
   "cell_type": "code",
   "execution_count": null,
   "metadata": {},
   "outputs": [],
   "source": [
    "# Display first 5 rows of the dataset\n",
    "print(\"First 5 rows of the dataset:\")\n",
    "print(df.head())"
   ]
  },
  {
   "cell_type": "code",
   "execution_count": null,
   "metadata": {},
   "outputs": [],
   "source": [
    "# Print basic information about the dataset\n",
    "print(\"Dataset Shape:\", df.shape)\n",
    "print(\"\\nColumn Names:\", list(df.columns))\n",
    "print(\"\\nData Types:\")\n",
    "print(df.dtypes)"
   ]
  },
  {
   "cell_type": "code",
   "execution_count": null,
   "metadata": {},
   "outputs": [],
   "source": [
    "# Get detailed information about the dataset\n",
    "print(\"Dataset Info:\")\n",
    "df.info()"
   ]
  },
  {
   "cell_type": "code",
   "execution_count": null,
   "metadata": {},
   "outputs": [],
   "source": [
    "# Get summary statistics for numeric columns\n",
    "print(\"Summary Statistics:\")\n",
    "print(df.describe())"
   ]
  },
  {
   "cell_type": "code",
   "execution_count": null,
   "metadata": {},
   "outputs": [],
   "source": [
    "# Count the number of samples for each species\n",
    "print(\"Number of samples per species:\")\n",
    "print(df['species'].value_counts())\n",
    "print(\"\\nPercentage distribution:\")\n",
    "print(df['species'].value_counts(normalize=True) * 100)"
   ]
  },
  {
   "cell_type": "markdown",
   "metadata": {},
   "source": [
    "## 3. Data Cleaning"
   ]
  },
  {
   "cell_type": "code",
   "execution_count": null,
   "metadata": {},
   "outputs": [],
   "source": [
    "# Check for missing values\n",
    "print(\"Missing values in each column:\")\n",
    "print(df.isnull().sum())\n",
    "\n",
    "# Check for duplicate rows\n",
    "print(f\"\\nNumber of duplicate rows: {df.duplicated().sum()}\")\n",
    "\n",
    "# Confirm dataset is ready for visualization\n",
    "print(\"\\nDataset is clean and ready for analysis!\")\n",
    "print(f\"Final dataset shape: {df.shape}\")"
   ]
  },
  {
   "cell_type": "code",
   "execution_count": null,
   "metadata": {},
   "outputs": [],
   "source": [
    "# Save the cleaned dataset as CSV\n",
    "df.to_csv('iris_dataset.csv', index=False)\n",
    "print(\"Dataset saved as 'iris_dataset.csv'\")"
   ]
  },
  {
   "cell_type": "markdown",
   "metadata": {},
   "source": [
    "## 4. Visualization Section"
   ]
  },
  {
   "cell_type": "markdown",
   "metadata": {},
   "source": [
    "### 4.1 Pairplot - Overall Relationships"
   ]
  },
  {
   "cell_type": "code",
   "execution_count": null,
   "metadata": {},
   "outputs": [],
   "source": [
    "# Create pairplot to show relationships between all numeric variables\n",
    "plt.figure(figsize=(12, 10))\n",
    "pairplot = sns.pairplot(df, hue='species', diag_kind='kde', height=2.5)\n",
    "pairplot.fig.suptitle('Pairplot of Iris Dataset Features by Species', y=1.02, fontsize=16)\n",
    "plt.tight_layout()\n",
    "plt.savefig('plots/01_pairplot.png', dpi=300, bbox_inches='tight')\n",
    "plt.show()\n",
    "plt.close()"
   ]
  },
  {
   "cell_type": "markdown",
   "metadata": {},
   "source": [
    "**Key Observation:** The pairplot reveals clear separation between species, especially setosa which is distinctly different from the other two species. Petal measurements show stronger discriminative power than sepal measurements."
   ]
  },
  {
   "cell_type": "markdown",
   "metadata": {},
   "source": [
    "### 4.2 Boxplot - Sepal Length Distribution"
   ]
  },
  {
   "cell_type": "code",
   "execution_count": null,
   "metadata": {},
   "outputs": [],
   "source": [
    "# Create boxplot for sepal length by species\n",
    "plt.figure(figsize=(10, 6))\n",
    "ax = sns.boxplot(data=df, x='species', y='sepal_length', palette='Set2')\n",
    "ax.set_title('Distribution of Sepal Length by Species', fontsize=16, pad=20)\n",
    "ax.set_xlabel('Species', fontsize=14)\n",
    "ax.set_ylabel('Sepal Length (cm)', fontsize=14)\n",
    "plt.tight_layout()\n",
    "plt.savefig('plots/02_boxplot_sepal_length.png', dpi=300, bbox_inches='tight')\n",
    "plt.show()\n",
    "plt.close()"
   ]
  },
  {
   "cell_type": "markdown",
   "metadata": {},
   "source": [
    "**Key Observation:** Virginica has the longest sepal length on average, followed by versicolor, then setosa. There's some overlap between versicolor and virginica, but setosa is clearly distinct."
   ]
  },
  {
   "cell_type": "markdown",
   "metadata": {},
   "source": [
    "### 4.3 Violin Plot - Petal Length Distribution"
   ]
  },
  {
   "cell_type": "code",
   "execution_count": null,
   "metadata": {},
   "outputs": [],
   "source": [
    "# Create violin plot for petal length by species\n",
    "plt.figure(figsize=(10, 6))\n",
    "ax = sns.violinplot(data=df, x='species', y='petal_length', palette='viridis')\n",
    "ax.set_title('Distribution of Petal Length by Species', fontsize=16, pad=20)\n",
    "ax.set_xlabel('Species', fontsize=14)\n",
    "ax.set_ylabel('Petal Length (cm)', fontsize=14)\n",
    "plt.tight_layout()\n",
    "plt.savefig('plots/03_violin_petal_length.png', dpi=300, bbox_inches='tight')\n",
    "plt.show()\n",
    "plt.close()"
   ]
  },
  {
   "cell_type": "markdown",
   "metadata": {},
   "source": [
    "**Key Observation:** Petal length shows excellent species separation with minimal overlap. Setosa has significantly shorter petals, while virginica has the longest petals. The violin plot reveals the distribution shape within each species."
   ]
  },
  {
   "cell_type": "markdown",
   "metadata": {},
   "source": [
    "### 4.4 KDE Plot - Sepal Width Distribution"
   ]
  },
  {
   "cell_type": "code",
   "execution_count": null,
   "metadata": {},
   "outputs": [],
   "source": [
    "# Create KDE plot for sepal width by species\n",
    "plt.figure(figsize=(10, 6))\n",
    "for species in df['species'].unique():\n",
    "    sns.kdeplot(data=df[df['species'] == species], x='sepal_width', \n",
    "                label=species, fill=True, alpha=0.6)\n",
    "plt.title('KDE Plot of Sepal Width by Species', fontsize=16, pad=20)\n",
    "plt.xlabel('Sepal Width (cm)', fontsize=14)\n",
    "plt.ylabel('Density', fontsize=14)\n",
    "plt.legend(title='Species', fontsize=12)\n",
    "plt.tight_layout()\n",
    "plt.savefig('plots/04_kde_sepal_width.png', dpi=300, bbox_inches='tight')\n",
    "plt.show()\n",
    "plt.close()"
   ]
  },
  {
   "cell_type": "markdown",
   "metadata": {},
   "source": [
    "**Key Observation:** Setosa has the widest sepals on average, while versicolor and virginica show considerable overlap in sepal width. This feature alone is not sufficient for species classification."
   ]
  },
  {
   "cell_type": "markdown",
   "metadata": {},
   "source": [
    "### 4.5 Swarm Plot - Petal Length vs Species"
   ]
  },
  {
   "cell_type": "code",
   "execution_count": null,
   "metadata": {},
   "outputs": [],
   "source": [
    "# Create swarm plot for petal length vs species\n",
    "plt.figure(figsize=(10, 6))\n",
    "ax = sns.swarmplot(data=df, x='species', y='petal_length', palette='husl', size=6)\n",
    "ax.set_title('Swarm Plot of Petal Length by Species', fontsize=16, pad=20)\n",
    "ax.set_xlabel('Species', fontsize=14)\n",
    "ax.set_ylabel('Petal Length (cm)', fontsize=14)\n",
    "plt.tight_layout()\n",
    "plt.savefig('plots/05_swarm_petal_length.png', dpi=300, bbox_inches='tight')\n",
    "plt.show()\n",
    "plt.close()"
   ]
  },
  {
   "cell_type": "markdown",
   "metadata": {},
   "source": [
    "**Key Observation:** The swarm plot shows individual data points, revealing the clear clustering of petal lengths within each species. There's virtually no overlap between setosa and the other species, making petal length an excellent discriminating feature."
   ]
  },
  {
   "cell_type": "markdown",
   "metadata": {},
   "source": [
    "### 4.6 Correlation Heatmap"
   ]
  },
  {
   "cell_type": "code",
   "execution_count": null,
   "metadata": {},
   "outputs": [],
   "source": [
    "# Create correlation heatmap for numeric features\n",
    "plt.figure(figsize=(10, 8))\n",
    "numeric_cols = ['sepal_length', 'sepal_width', 'petal_length', 'petal_width']\n",
    "correlation_matrix = df[numeric_cols].corr()\n",
    "\n",
    "ax = sns.heatmap(correlation_matrix, annot=True, cmap='coolwarm', center=0,\n",
    "                square=True, linewidths=0.5, cbar_kws={\"shrink\": .8})\n",
    "ax.set_title('Correlation Heatmap of Iris Features', fontsize=16, pad=20)\n",
    "plt.tight_layout()\n",
    "plt.savefig('plots/06_correlation_heatmap.png', dpi=300, bbox_inches='tight')\n",
    "plt.show()\n",
    "plt.close()"
   ]
  },
  {
   "cell_type": "markdown",
   "metadata": {},
   "source": [
    "**Key Observation:** Strong positive correlation (0.87) between petal length and petal width indicates these features move together. Moderate correlation between sepal length and petal measurements. Sepal width shows weak correlation with other features."
   ]
  },
  {
   "cell_type": "markdown",
   "metadata": {},
   "source": [
    "### 4.7 Count Plot - Species Distribution"
   ]
  },
  {
   "cell_type": "code",
   "execution_count": null,
   "metadata": {},
   "outputs": [],
   "source": [
    "# Create count plot showing number of samples per species\n",
    "plt.figure(figsize=(10, 6))\n",
    "ax = sns.countplot(data=df, x='species', palette='pastel')\n",
    "ax.set_title('Number of Samples per Species', fontsize=16, pad=20)\n",
    "ax.set_xlabel('Species', fontsize=14)\n",
    "ax.set_ylabel('Count', fontsize=14)\n",
    "\n",
    "# Add count labels on top of bars\n",
    "for i, v in enumerate(df['species'].value_counts().values):\n",
    "    ax.text(i, v + 1, str(v), ha='center', va='bottom', fontsize=12, fontweight='bold')\n",
    "\n",
    "plt.tight_layout()\n",
    "plt.savefig('plots/07_count_plot.png', dpi=300, bbox_inches='tight')\n",
    "plt.show()\n",
    "plt.close()"
   ]
  },
  {
   "cell_type": "markdown",
   "metadata": {},
   "source": [
    "**Key Observation:** The dataset is perfectly balanced with exactly 50 samples for each of the three iris species, making it ideal for classification tasks without class imbalance concerns."
   ]
  },
  {
   "cell_type": "markdown",
   "metadata": {},
   "source": [
    "## 5. Analysis & Insights"
   ]
  },
  {
   "cell_type": "markdown",
   "metadata": {},
   "source": [
    "### Summary of Key Findings:\n",
    "\n",
    "**Species Characteristics:**\n",
    "- **Setosa**: Smallest petals (length & width), widest sepals, most distinct species\n",
    "- **Versicolor**: Medium-sized features, some overlap with virginica\n",
    "- **Virginica**: Largest petals and longest sepals, some overlap with versicolor\n",
    "\n",
    "**Best Discriminating Features:**\n",
    "1. **Petal Length**: Excellent separation between all species\n",
    "2. **Petal Width**: Strong discriminating power, highly correlated with petal length\n",
    "3. **Sepal Length**: Good for distinguishing setosa from others\n",
    "4. **Sepal Width**: Least discriminating feature\n",
    "\n",
    "**Strong Correlations:**\n",
    "- Petal length vs Petal width (r = 0.87): Very strong positive correlation\n",
    "- Sepal length vs Petal length (r = 0.87): Strong positive correlation\n",
    "- Sepal length vs Petal width (r = 0.82): Strong positive correlation\n",
    "\n",
    "**Species Overlap:**\n",
    "- **Minimal overlap**: Setosa is clearly separable from other species\n",
    "- **Some overlap**: Versicolor and Virginica show overlap in sepal measurements\n",
    "- **Best separation**: Achieved using petal measurements\n",
    "\n",
    "**Dataset Quality:**\n",
    "- Perfectly balanced dataset (50 samples per species)\n",
    "- No missing values or data quality issues\n",
    "- Suitable for machine learning classification tasks"
   ]
  },
  {
   "cell_type": "code",
   "execution_count": null,
   "metadata": {},
   "outputs": [],
   "source": [
    "# Final summary statistics by species\n",
    "print(\"Summary Statistics by Species:\")\n",
    "print(\"=\" * 50)\n",
    "for species in df['species'].unique():\n",
    "    print(f\"\\n{species.upper()}:\")\n",
    "    species_data = df[df['species'] == species]\n",
    "    print(species_data[['sepal_length', 'sepal_width', 'petal_length', 'petal_width']].describe())\n",
    "    print(\"-\" * 50)"
   ]
  },
  {
   "cell_type": "markdown",
   "metadata": {},
   "source": [
    "## Conclusion\n",
    "\n",
    "This exploratory data analysis of the Iris dataset reveals clear patterns and relationships that make it an excellent dataset for classification tasks. The combination of petal length and width provides the strongest discriminating power for species identification, while the dataset's balanced nature and clean structure make it ideal for machine learning applications."
   ]
  }
 ],
 "metadata": {
  "kernelspec": {
   "display_name": "Python 3",
   "language": "python",
   "name": "python3"
  },
  "language_info": {
   "codemirror_mode": {
    "name": "ipython",
    "version": 3
   },
   "file_extension": ".py",
   "mimetype": "text/x-python",
   "name": "python",
   "nbconvert_exporter": "python",
   "pygments_lexer": "ipython3",
   "version": "3.8.5"
  }
 },
 "nbformat": 4,
 "nbformat_minor": 4
}
